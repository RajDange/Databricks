{
 "cells": [
  {
   "cell_type": "code",
   "execution_count": 0,
   "metadata": {
    "application/vnd.databricks.v1+cell": {
     "cellMetadata": {
      "byteLimit": 2048000,
      "rowLimit": 10000
     },
     "inputWidgets": {},
     "nuid": "3fda92a5-a706-472d-a426-00bfa99e98f4",
     "showTitle": false,
     "tableResultSettingsMap": {},
     "title": ""
    }
   },
   "outputs": [],
   "source": [
    "# Let's create another small DataFrame to demonstrate joins\n",
    "from pyspark.sql import Row\n",
    "\n",
    "city_data = [\n",
    "    Row(location=\"New York\", region=\"East\",time=\"AM\",paan=\"gg\"),\n",
    "    Row(location=\"Los Angeles\", region=\"West\",time=\"AM\",paan=\"gg\"),\n",
    "    Row(location=\"Chicago\", region=\"Midwest\",time=\"AM\",paan=\"gg\"),\n",
    "    Row(location=\"Houston\", region=\"South\",time=\"AM\",paan=\"gg\"),\n",
    "    Row(location=\"Miami\", region=\"South\",time=\"AM\",paan=\"gg\")  # Not present in customer_df\n",
    "]\n",
    "city_df = spark.createDataFrame(city_data)\n",
    "city_df.show()"
   ]
  },
  {
   "cell_type": "code",
   "execution_count": 0,
   "metadata": {
    "application/vnd.databricks.v1+cell": {
     "cellMetadata": {
      "byteLimit": 2048000,
      "rowLimit": 10000
     },
     "inputWidgets": {},
     "nuid": "c5d3119b-b14b-499b-8a55-aa3e0e04f84c",
     "showTitle": false,
     "tableResultSettingsMap": {},
     "title": ""
    }
   },
   "outputs": [],
   "source": [
    "# Replace 'customers' with your actual table name if different\n",
    "customer_table = \"my_database.my_schema.customers\"\n",
    "customer_df = spark.read.table(customer_table)\n",
    "customer_df.show()"
   ]
  },
  {
   "cell_type": "code",
   "execution_count": 0,
   "metadata": {
    "application/vnd.databricks.v1+cell": {
     "cellMetadata": {
      "byteLimit": 2048000,
      "rowLimit": 10000
     },
     "inputWidgets": {},
     "nuid": "98de8b52-e471-4ab6-a67d-b44988affc41",
     "showTitle": false,
     "tableResultSettingsMap": {},
     "title": ""
    }
   },
   "outputs": [],
   "source": [
    "outer_join = customer_df.join(city_df, on=\"location\", how=\"outer\")\n",
    "outer_join.show()"
   ]
  },
  {
   "cell_type": "code",
   "execution_count": 0,
   "metadata": {
    "application/vnd.databricks.v1+cell": {
     "cellMetadata": {
      "byteLimit": 2048000,
      "rowLimit": 10000
     },
     "inputWidgets": {},
     "nuid": "b4afb344-40cc-4d9a-a6f3-b6dae770e87f",
     "showTitle": false,
     "tableResultSettingsMap": {},
     "title": ""
    }
   },
   "outputs": [],
   "source": [
    "import dlt\n",
    "from pyspark.sql.functions import *\n",
    "\n",
    "@dlt.table(\n",
    "    name=\"outer_join_op_dlt\",\n",
    "    comment=\"This table contains the result of the outer join operation.\",\n",
    ")\n",
    "def outer_join_op_dlt():\n",
    "    \n",
    "    outer_join_df = outer_join\n",
    "\n",
    "    return outer_join_df"
   ]
  }
 ],
 "metadata": {
  "application/vnd.databricks.v1+notebook": {
   "computePreferences": null,
   "dashboards": [],
   "environmentMetadata": {
    "base_environment": "",
    "environment_version": "2"
   },
   "inputWidgetPreferences": null,
   "language": "python",
   "notebookMetadata": {
    "pythonIndentUnit": 4
   },
   "notebookName": "Dlt_Tables",
   "widgets": {}
  },
  "language_info": {
   "name": "python"
  }
 },
 "nbformat": 4,
 "nbformat_minor": 0
}
